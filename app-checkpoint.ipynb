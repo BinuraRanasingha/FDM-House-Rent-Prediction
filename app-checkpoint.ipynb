{
 "cells": [
  {
   "cell_type": "code",
   "execution_count": 1,
   "id": "3e298e9b",
   "metadata": {},
   "outputs": [
    {
     "name": "stdout",
     "output_type": "stream",
     "text": [
      "C:\\Users\\ishan\\Desktop\\Project\\House_Rent_Prediction\\dataset\n"
     ]
    }
   ],
   "source": [
    "%cd C:\\Users\\Binura\\Desktop\\Project_11_1_2022\\House_Rent_Prediction\\dataset\n",
    "#important include the directory to the cloned folder"
   ]
  },
  {
   "cell_type": "code",
   "execution_count": 2,
   "id": "5dc740b8",
   "metadata": {},
   "outputs": [],
   "source": [
    "import pandas as pd\n",
    "train_df = pd.read_csv(\"train_reg.csv\")\n",
    "X_train=pd.read_csv(\"Xtrain_classify.csv\")\n",
    "Y_train=pd.read_csv(\"Ytrain_classify.csv\")"
   ]
  },
  {
   "cell_type": "code",
   "execution_count": 3,
   "id": "970e99fe",
   "metadata": {},
   "outputs": [
    {
     "name": "stdout",
     "output_type": "stream",
     "text": [
      "C:\\Users\\ishan\\Desktop\\Project\\House_Rent_Prediction\n"
     ]
    }
   ],
   "source": [
    "%cd C:\\Users\\Binura\\Desktop\\Project_11_1_2022\\House_Rent_Prediction \n",
    "#important include the directory to the cloned folder"
   ]
  },
  {
   "cell_type": "code",
   "execution_count": 4,
   "id": "b83fa040",
   "metadata": {},
   "outputs": [
    {
     "name": "stdout",
     "output_type": "stream",
     "text": [
      "__main__\n",
      " * Serving Flask app \"__main__\" (lazy loading)\n",
      " * Environment: production\n",
      "\u001b[31m   WARNING: This is a development server. Do not use it in a production deployment.\u001b[0m\n",
      "\u001b[2m   Use a production WSGI server instead.\u001b[0m\n",
      " * Debug mode: off\n"
     ]
    },
    {
     "name": "stderr",
     "output_type": "stream",
     "text": [
      " * Running on http://127.0.0.1:5000/ (Press CTRL+C to quit)\n",
      "C:\\Users\\ishan\\anaconda3\\lib\\site-packages\\sklearn\\neighbors\\_classification.py:198: DataConversionWarning: A column-vector y was passed when a 1d array was expected. Please change the shape of y to (n_samples,), for example using ravel().\n",
      "  return self._fit(X, y)\n",
      "C:\\Users\\ishan\\anaconda3\\lib\\site-packages\\sklearn\\base.py:450: UserWarning: X does not have valid feature names, but KNeighborsClassifier was fitted with feature names\n",
      "  warnings.warn(\n",
      "C:\\Users\\ishan\\anaconda3\\lib\\site-packages\\sklearn\\neighbors\\_classification.py:228: FutureWarning: Unlike other reduction functions (e.g. `skew`, `kurtosis`), the default behavior of `mode` typically preserves the axis it acts along. In SciPy 1.11.0, this behavior will change: the default value of `keepdims` will become False, the `axis` over which the statistic is taken will be eliminated, and the value None will no longer be accepted. Set `keepdims` to True or False to avoid this warning.\n",
      "  mode, _ = stats.mode(_y[neigh_ind, k], axis=1)\n",
      "127.0.0.1 - - [27/Oct/2022 14:52:10] \"POST /clasify HTTP/1.1\" 200 -\n"
     ]
    }
   ],
   "source": [
    "import numpy as np\n",
    "from flask import Flask, request, jsonify, render_template\n",
    "from sklearn.preprocessing import StandardScaler\n",
    "import pickle\n",
    "from sklearn.neighbors import KNeighborsClassifier\n",
    "from sklearn import metrics\n",
    "\n",
    "app = Flask(__name__)\n",
    "model = pickle.load(open('model/update_reg3.0.pkl', 'rb'))\n",
    "\n",
    "@app.route('/')\n",
    "def home():\n",
    "    return render_template('index.html')\n",
    "\n",
    "@app.route('/size')\n",
    "def size():\n",
    "    return render_template('reg.html')\n",
    "\n",
    "@app.route('/est')\n",
    "def est():\n",
    "    return render_template('clas.html')\n",
    "\n",
    "\n",
    "@app.route('/clasify',methods=['POST'])\n",
    "def clasify():\n",
    "    '''\n",
    "    For rendering results on HTML GUI for Classification\n",
    "    \n",
    "    '''\n",
    "    \n",
    "    arr=np.zeros(18) #Intializing array of zero\n",
    "    \n",
    "    bath1=request.form.get(\"bath\")\n",
    "    room1=request.form.get(\"room\")\n",
    "    size1=request.form.get(\"size\")\n",
    "    area1= request.form.get('area')\n",
    "    tenant= request.form.get('ten')\n",
    "    furn= request.form.get('furn')\n",
    "    city= request.form.get('city')\n",
    "   \n",
    "    \n",
    "    #Assigning values for the array\n",
    "    arr[0]=room1\n",
    "    arr[1]=bath1\n",
    "    arr[2]=size1\n",
    "    \n",
    "    if \"sup\" in area1:\n",
    "        arr[5]=\"1\"\n",
    "    elif \"carp\" in area1:\n",
    "        arr[4]=\"1\"\n",
    "    elif \"buil\" in area1:\n",
    "        arr[3]=\"1\"\n",
    "    \n",
    "    if \"b\" in tenant:\n",
    "        arr[6]=\"1\"\n",
    "    elif \"f\" in tenant:\n",
    "        arr[8]=\"1\"\n",
    "    elif \"both\" in tenant:\n",
    "        arr[7]=\"1\"\n",
    "    \n",
    "    \n",
    "    if \"f\" in furn:\n",
    "        arr[9]=\"1\"\n",
    "    elif \"sf\" in furn:\n",
    "        arr[10]=\"1\"\n",
    "    elif \"none\" in furn:\n",
    "        arr[11]=\"1\"\n",
    "        \n",
    "    if \"bangalore\" in city:\n",
    "        arr[12]=\"1\"\n",
    "    elif \"chennai\" in city:\n",
    "        arr[13]=\"1\"\n",
    "    elif \"delhi\" in city:\n",
    "        arr[14]=\"1\"\n",
    "    elif \"hyd\" in city:\n",
    "        arr[15]=\"1\"\n",
    "    elif \"kol\" in city:\n",
    "        arr[16]=\"1\"\n",
    "    elif \"mum\" in city:\n",
    "        arr[17]=\"1\"\n",
    " \n",
    "        \n",
    "        \n",
    "    #converting to 2D array\n",
    "    X_test=arr.reshape(1,18)\n",
    "    #create KNN classifier\n",
    "    KNN_classifier= KNeighborsClassifier(n_neighbors=5, metric='minkowski', p=2 )  \n",
    "\n",
    "    #train the model\n",
    "    KNN_classifier.fit(X_train, Y_train.to_numpy())  \n",
    "\n",
    "    #predict the output using the model\n",
    "    y_pred=KNN_classifier.predict(X_test)\n",
    "    \n",
    "    \n",
    "    def convert(y_pred):\n",
    "        result=\"\"\n",
    "        if y_pred == 0:\n",
    "            result=\"1500-13350\"\n",
    "        elif y_pred ==1:\n",
    "            result=\"13350-25200\"\n",
    "        elif y_pred ==2:\n",
    "            result=\"25200-37050\"\n",
    "        elif y_pred ==3:\n",
    "            result=\"37050-48900\"\n",
    "        elif y_pred ==4:\n",
    "            result=\"48900-60750\"\n",
    "        elif y_pred ==5:\n",
    "            result=\"60750-72600\"\n",
    "        elif y_pred ==6:\n",
    "            result=\"72600-84450\"\n",
    "        elif y_pred ==7:\n",
    "            result=\"84450-96300\"\n",
    "        elif y_pred ==8: \n",
    "            result=\"96300-108150\"\n",
    "        elif y_pred ==9: \n",
    "            result=\"108150-120000\"\n",
    "        else:\n",
    "            result=\"No class\"\n",
    "        \n",
    "        return result\n",
    "        \n",
    "    \n",
    "\n",
    "    #output = round(prediction[0], 2)\n",
    "  \n",
    "\n",
    "    return render_template('clas.html', prediction_text=convert(y_pred))\n",
    "\n",
    "@app.route('/predict',methods=['POST'])\n",
    "def predict():\n",
    "    '''\n",
    "    For rendering results on HTML GUI for Regression\n",
    "    \n",
    "    '''\n",
    "    bath=request.form.get(\"bath\")\n",
    "    room=request.form.get(\"room\")\n",
    "    size=request.form.get(\"size\")\n",
    "    select = request.form.get('area')\n",
    "   \n",
    "    data=[bath,room,size,select]\n",
    "    \n",
    "    pdata=np.array(data).reshape(1,4)\n",
    "    scaler = StandardScaler().fit(train_df)\n",
    "    rescaled_X_test = scaler.transform(pdata)\n",
    "    prediction = model.predict(rescaled_X_test)\n",
    "    actual_predicted = np.exp(prediction)\n",
    "\n",
    "    #output = round(prediction[0], 2)\n",
    "    output=data\n",
    "\n",
    "    return render_template('reg.html', prediction_text=actual_predicted)\n",
    "\n",
    "\n",
    "\n",
    "if __name__ == \"__main__\":\n",
    "    print(__name__)\n",
    "    app.run(debug=False)\n",
    "    "
   ]
  },
  {
   "cell_type": "code",
   "execution_count": 5,
   "id": "52d518d0",
   "metadata": {},
   "outputs": [
    {
     "data": {
      "text/plain": [
       "array([0., 0., 0., 0., 0., 0., 0., 0., 0., 0., 0., 0., 0., 0., 0., 0., 0.,\n",
       "       0.])"
      ]
     },
     "execution_count": 5,
     "metadata": {},
     "output_type": "execute_result"
    }
   ],
   "source": [
    "arr=np.zeros(18)\n",
    "arr"
   ]
  },
  {
   "cell_type": "code",
   "execution_count": 6,
   "id": "b3c43292",
   "metadata": {},
   "outputs": [
    {
     "data": {
      "text/plain": [
       "18"
      ]
     },
     "execution_count": 6,
     "metadata": {},
     "output_type": "execute_result"
    }
   ],
   "source": [
    "len(arr)"
   ]
  }
 ],
 "metadata": {
  "kernelspec": {
   "display_name": "Python 3 (ipykernel)",
   "language": "python",
   "name": "python3"
  },
  "language_info": {
   "codemirror_mode": {
    "name": "ipython",
    "version": 3
   },
   "file_extension": ".py",
   "mimetype": "text/x-python",
   "name": "python",
   "nbconvert_exporter": "python",
   "pygments_lexer": "ipython3",
   "version": "3.9.12"
  },
  "vscode": {
   "interpreter": {
    "hash": "0a99968d62fe3680d139171a98cf21197d466012d4b26f299b0addb447acb9db"
   }
  }
 },
 "nbformat": 4,
 "nbformat_minor": 5
}
